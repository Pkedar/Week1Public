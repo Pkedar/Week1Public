{
 "cells": [
  {
   "cell_type": "markdown",
   "source": "# Decision Tree Worksheet",
   "metadata": {
    "colab_type": "text",
    "id": "-UimMCmGe19F",
    "cell_id": "00000-a17bbd0c-936b-4d1f-bfc8-e616765c57a2",
    "deepnote_cell_type": "markdown"
   }
  },
  {
   "cell_type": "code",
   "metadata": {
    "colab": {
     "autoexec": {
      "startup": false,
      "wait_interval": 0
     }
    },
    "colab_type": "code",
    "id": "kedW02LgKjVL",
    "cell_id": "00001-c3a1e231-0620-4e41-9bfb-126e240634bd",
    "deepnote_to_be_reexecuted": false,
    "source_hash": "eb9a879d",
    "execution_start": 1625685351522,
    "execution_millis": 6,
    "deepnote_cell_type": "code"
   },
   "source": "import numpy as np\nimport pandas as pd\nfrom sklearn.model_selection import train_test_split\nfrom sklearn.tree import DecisionTreeClassifier\nfrom sklearn.metrics import accuracy_score\nfrom sklearn import tree\nfrom sklearn.ensemble import RandomForestClassifier\nfrom sklearn import metrics\nimport graphviz\nimport matplotlib.pyplot as plt",
   "outputs": [],
   "execution_count": null
  },
  {
   "cell_type": "markdown",
   "source": "## Loading data\n\nLoad Pima diabetes dataset and split data, with test size 20% and validaton 20%.",
   "metadata": {
    "colab_type": "text",
    "id": "rz35eT5-SMht",
    "cell_id": "00002-e2b4cf2f-ab18-4c3d-a27e-cb9494cd9638",
    "deepnote_cell_type": "markdown"
   }
  },
  {
   "cell_type": "code",
   "metadata": {
    "colab": {
     "autoexec": {
      "startup": false,
      "wait_interval": 0
     }
    },
    "colab_type": "code",
    "id": "Ydh9gmDkMGmu",
    "cell_id": "00003-5bf0a911-8f0b-4156-b87f-79779a708c8b",
    "deepnote_to_be_reexecuted": false,
    "source_hash": "188d96be",
    "execution_start": 1625687572310,
    "execution_millis": 57,
    "deepnote_cell_type": "code"
   },
   "source": "url = \"https://raw.githubusercontent.com/jbrownlee/Datasets/master/pima-indians-diabetes.data.csv\"\nnames = ['preg', 'plas', 'pres', 'skin', 'test', 'mass', 'pedi', 'age', 'class']\n\n## YOUR CODE HERE\ndata = pd.read_csv(url, names=names)\ndata.head(5)\n\nX_cols = ['preg', 'plas', 'pres', 'skin', 'test', 'mass', 'pedi', 'age']\ny_col = 'class'\n\ntest_size = 0.2\nX_train, X_test, y_train, y_test = train_test_split(data[X_cols], data[y_col], test_size=test_size, random_state=0)\nX_train, X_val, y_train, y_val = train_test_split(X_train, y_train, test_size=test_size, random_state=0)",
   "outputs": [],
   "execution_count": null
  },
  {
   "cell_type": "markdown",
   "source": "## Creating Model\n\nMake a model using sklearn's DecisionTreeClassifier, with a high max-depth and low minimum sample leafs.",
   "metadata": {
    "colab_type": "text",
    "id": "KAFhsJIsSpMR",
    "cell_id": "00004-6639bcea-5f35-47d7-b6ef-12778faac808",
    "deepnote_cell_type": "markdown"
   }
  },
  {
   "cell_type": "code",
   "metadata": {
    "colab": {
     "autoexec": {
      "startup": false,
      "wait_interval": 0
     }
    },
    "colab_type": "code",
    "id": "fHbA28aFS2DM",
    "cell_id": "00005-34b9ffb0-76e4-42f5-8e16-3f49f8c50e72",
    "deepnote_to_be_reexecuted": false,
    "source_hash": "1ab98c8c",
    "execution_start": 1625687441858,
    "execution_millis": 51,
    "deepnote_cell_type": "code"
   },
   "source": "## YOUR CODE HERE\ndecision_tree = DecisionTreeClassifier(criterion='entropy', random_state = None, max_depth = 20, min_samples_leaf = 1)\n\ndecision_tree.fit(X_train, y_train)",
   "outputs": [
    {
     "output_type": "execute_result",
     "execution_count": 48,
     "data": {
      "text/plain": "DecisionTreeClassifier(criterion='entropy', max_depth=20)"
     },
     "metadata": {}
    }
   ],
   "execution_count": null
  },
  {
   "cell_type": "markdown",
   "source": "Print accuracy of training and validation data.",
   "metadata": {
    "colab_type": "text",
    "id": "4_8DZinWTJRa",
    "cell_id": "00006-81e439d6-7a96-472e-9262-17c68e1d0b9e",
    "deepnote_cell_type": "markdown"
   }
  },
  {
   "cell_type": "code",
   "metadata": {
    "colab": {
     "autoexec": {
      "startup": false,
      "wait_interval": 0
     }
    },
    "colab_type": "code",
    "id": "EgByCP_EhyB2",
    "cell_id": "00007-e8d6f2e4-f39b-46a2-9d98-d51ee62690da",
    "deepnote_to_be_reexecuted": false,
    "source_hash": "5bdff3a8",
    "execution_start": 1625687442818,
    "execution_millis": 22,
    "deepnote_cell_type": "code"
   },
   "source": "y_train_pred=decision_tree.predict(X_train)\nprint(\"Training Accuracy is \", accuracy_score(y_train, y_train_pred)*100)\ny_val_pred=decision_tree.predict(X_val)\nprint(\"Validation Accuracy is \", accuracy_score(y_val,y_val_pred)*100)",
   "outputs": [
    {
     "name": "stdout",
     "text": "Training Accuracy is  100.0\nValidation Accuracy is  69.10569105691057\n",
     "output_type": "stream"
    }
   ],
   "execution_count": null
  },
  {
   "cell_type": "markdown",
   "source": "Make a model with a low max-depth and higher minimum sample leafs.",
   "metadata": {
    "colab_type": "text",
    "id": "6HNa6fxbT6ak",
    "cell_id": "00008-6e91e88a-ef5c-4aed-8764-def8ee31374d",
    "deepnote_cell_type": "markdown"
   }
  },
  {
   "cell_type": "code",
   "metadata": {
    "colab": {
     "autoexec": {
      "startup": false,
      "wait_interval": 0
     },
     "base_uri": "https://localhost:8080/",
     "height": 17
    },
    "colab_type": "code",
    "executionInfo": {
     "elapsed": 287,
     "status": "ok",
     "timestamp": 1530627778885,
     "user": {
      "displayName": "john passarelli",
      "photoUrl": "https://lh3.googleusercontent.com/a/default-user=s128",
      "userId": "102241934905781120798"
     },
     "user_tz": 240
    },
    "id": "6Pbu-t_tiqnB",
    "outputId": "ef95b427-e6b4-41a7-f992-9826342b662c",
    "cell_id": "00009-dc03dee1-6581-4b23-bd62-24cf1243aa14",
    "deepnote_to_be_reexecuted": false,
    "source_hash": "d69e2924",
    "execution_start": 1625687444020,
    "execution_millis": 37,
    "deepnote_cell_type": "code"
   },
   "source": "## YOUR CODE HERE\ndecision_tree_ld = DecisionTreeClassifier(criterion='entropy', random_state = None, max_depth = 3, min_samples_leaf = 20)\n\ndecision_tree_ld.fit(X_train, y_train)",
   "outputs": [
    {
     "output_type": "execute_result",
     "execution_count": 50,
     "data": {
      "text/plain": "DecisionTreeClassifier(criterion='entropy', max_depth=3, min_samples_leaf=20)"
     },
     "metadata": {}
    }
   ],
   "execution_count": null
  },
  {
   "cell_type": "markdown",
   "source": "Print accuracy of training and validation data.",
   "metadata": {
    "cell_id": "00010-7d8f485f-76b0-4e38-a2e5-088cb3280c4c",
    "deepnote_cell_type": "markdown"
   }
  },
  {
   "cell_type": "code",
   "metadata": {
    "cell_id": "00011-3f1ae7c6-a846-4695-94e8-22d5b70aa40e",
    "deepnote_to_be_reexecuted": false,
    "source_hash": "39e71b2d",
    "execution_start": 1625687444924,
    "execution_millis": 32,
    "deepnote_cell_type": "code"
   },
   "source": "## YOUR CODE HERE\ny_train_pred_ld=decision_tree_ld.predict(X_train)\nprint(\"Training Accuracy is \", accuracy_score(y_train, y_train_pred_ld)*100)\ny_val_pred_ld=decision_tree_ld.predict(X_val)\nprint(\"Validation Accuracy is \", accuracy_score(y_val,y_val_pred_ld)*100)",
   "outputs": [
    {
     "name": "stdout",
     "text": "Training Accuracy is  78.41140529531569\nValidation Accuracy is  72.35772357723577\n",
     "output_type": "stream"
    }
   ],
   "execution_count": null
  },
  {
   "cell_type": "markdown",
   "source": "Explain the accuracy results below. \n\nThe model with a high max depth and low min. sample leaves had a higher training accuracy and lower validation accuracy because it overfit to the data. For the second model, there are not enough decision nodes, which explains both the low training and validation accuracy.",
   "metadata": {
    "cell_id": "00012-9cf39459-b066-4108-a92c-db97336134c5",
    "deepnote_cell_type": "markdown"
   }
  },
  {
   "cell_type": "markdown",
   "source": "## Metrics",
   "metadata": {
    "cell_id": "00013-f73ddd54-5cd5-4d88-bfef-6e7d298889a7",
    "deepnote_cell_type": "markdown"
   }
  },
  {
   "cell_type": "markdown",
   "source": "Plot the ROC curve and print the AUC of the second model.",
   "metadata": {
    "cell_id": "00014-debf10c1-dd3b-46a5-ac8b-2371da3d5867",
    "deepnote_cell_type": "markdown"
   }
  },
  {
   "cell_type": "code",
   "metadata": {
    "cell_id": "00015-e99a7d62-9b22-4318-b695-8427017bfbcf",
    "deepnote_to_be_reexecuted": false,
    "source_hash": "915a07a3",
    "execution_start": 1625687447381,
    "execution_millis": 369,
    "deepnote_cell_type": "code"
   },
   "source": "labels = [0,1]\ny_val_prob = decision_tree_ld.predict_proba(X_val,labels)\n\nfpr, tpr, thresholds = metrics.roc_curve(y_val, y_val_prob[:,1])\n\nroc_auc = metrics.auc(fpr, tpr)\n\nprint(roc_auc)\nplt.figure(figsize=(6,6))\nlw = 2\nplt.plot(fpr, tpr, color='darkorange',\n         lw=lw, label='ROC curve (area = %0.2f)' % roc_auc)\nplt.plot([0, 1], [0, 1], color='navy', lw=lw, linestyle='--')\nplt.xlim([0.0, 1.0])\nplt.ylim([0.0, 1.0])\nplt.xlabel('False Positive Rate')\nplt.ylabel('True Positive Rate')\nplt.legend(loc=\"lower right\")\nplt.show()",
   "outputs": [
    {
     "name": "stdout",
     "text": "0.7998306041784302\n",
     "output_type": "stream"
    },
    {
     "data": {
      "text/plain": "<Figure size 432x432 with 1 Axes>",
      "image/png": "[encoded data removed]"
     },
     "metadata": {
      "needs_background": "light",
      "image/png": {
       "width": 394,
       "height": 375
      }
     },
     "output_type": "display_data"
    }
   ],
   "execution_count": null
  },
  {
   "cell_type": "markdown",
   "source": "Use graphviz to visualize your 2nd tree.",
   "metadata": {
    "colab_type": "text",
    "id": "tKdqOMBKUvGZ",
    "cell_id": "00016-ceb0a3bf-53b7-4fda-95a1-8759c4cf9041",
    "deepnote_cell_type": "markdown"
   }
  },
  {
   "cell_type": "code",
   "metadata": {
    "colab": {
     "autoexec": {
      "startup": false,
      "wait_interval": 0
     }
    },
    "colab_type": "code",
    "id": "8o55bY_jl8gj",
    "cell_id": "00017-937c99ac-ed8f-4575-8a24-2033a69b5153",
    "deepnote_to_be_reexecuted": false,
    "source_hash": "37b4b5ae",
    "execution_start": 1625687550043,
    "execution_millis": 70,
    "deepnote_cell_type": "code"
   },
   "source": "## YOUR CODE HERE\ndot_data = tree.export_graphviz(decision_tree_ld, out_file=None, filled=True)\n\ngraph = graphviz.Source(dot_data)\ngraph",
   "outputs": [
    {
     "output_type": "execute_result",
     "execution_count": 55,
     "data": {
      "text/plain": "<graphviz.files.Source at 0x7f75b6cdf850>",
      "image/svg+xml": "<?xml version=\"1.0\" encoding=\"UTF-8\" standalone=\"no\"?>\n<!DOCTYPE svg PUBLIC \"-//W3C//DTD SVG 1.1//EN\"\n \"http://www.w3.org/Graphics/SVG/1.1/DTD/svg11.dtd\">\n<!-- Generated by graphviz version 2.40.1 (20161225.0304)\n -->\n<!-- Title: Tree Pages: 1 -->\n<svg width=\"1204pt\" height=\"373pt\"\n viewBox=\"0.00 0.00 1204.00 373.00\" xmlns=\"http://www.w3.org/2000/svg\" xmlns:xlink=\"http://www.w3.org/1999/xlink\">\n<g id=\"graph0\" class=\"graph\" transform=\"scale(1 1) rotate(0) translate(4 369)\">\n<title>Tree</title>\n<polygon fill=\"#ffffff\" stroke=\"transparent\" points=\"-4,4 -4,-369 1200,-369 1200,4 -4,4\"/>\n<!-- 0 -->\n<g id=\"node1\" class=\"node\">\n<title>0</title>\n<polygon fill=\"#f3c7a7\" stroke=\"#000000\" points=\"668.5,-365 519.5,-365 519.5,-297 668.5,-297 668.5,-365\"/>\n<text text-anchor=\"middle\" x=\"594\" y=\"-349.8\" font-family=\"Times,serif\" font-size=\"14.00\" fill=\"#000000\">X[1] &lt;= 127.5</text>\n<text text-anchor=\"middle\" x=\"594\" y=\"-334.8\" font-family=\"Times,serif\" font-size=\"14.00\" fill=\"#000000\">entropy = 0.94</text>\n<text text-anchor=\"middle\" x=\"594\" y=\"-319.8\" font-family=\"Times,serif\" font-size=\"14.00\" fill=\"#000000\">samples = 491</text>\n<text text-anchor=\"middle\" x=\"594\" y=\"-304.8\" font-family=\"Times,serif\" font-size=\"14.00\" fill=\"#000000\">value = [316, 175]</text>\n</g>\n<!-- 1 -->\n<g id=\"node2\" class=\"node\">\n<title>1</title>\n<polygon fill=\"#eba06a\" stroke=\"#000000\" points=\"514,-261 374,-261 374,-193 514,-193 514,-261\"/>\n<text text-anchor=\"middle\" x=\"444\" y=\"-245.8\" font-family=\"Times,serif\" font-size=\"14.00\" fill=\"#000000\">X[7] &lt;= 28.5</text>\n<text text-anchor=\"middle\" x=\"444\" y=\"-230.8\" font-family=\"Times,serif\" font-size=\"14.00\" fill=\"#000000\">entropy = 0.719</text>\n<text text-anchor=\"middle\" x=\"444\" y=\"-215.8\" font-family=\"Times,serif\" font-size=\"14.00\" fill=\"#000000\">samples = 307</text>\n<text text-anchor=\"middle\" x=\"444\" y=\"-200.8\" font-family=\"Times,serif\" font-size=\"14.00\" fill=\"#000000\">value = [246, 61]</text>\n</g>\n<!-- 0&#45;&gt;1 -->\n<g id=\"edge1\" class=\"edge\">\n<title>0&#45;&gt;1</title>\n<path fill=\"none\" stroke=\"#000000\" d=\"M544.8844,-296.9465C531.0281,-287.3395 515.8283,-276.8009 501.5261,-266.8848\"/>\n<polygon fill=\"#000000\" stroke=\"#000000\" points=\"503.4382,-263.9515 493.226,-261.13 499.4497,-269.7041 503.4382,-263.9515\"/>\n<text text-anchor=\"middle\" x=\"497.681\" y=\"-282.0298\" font-family=\"Times,serif\" font-size=\"14.00\" fill=\"#000000\">True</text>\n</g>\n<!-- 8 -->\n<g id=\"node9\" class=\"node\">\n<title>8</title>\n<polygon fill=\"#b3d9f5\" stroke=\"#000000\" points=\"817,-261 677,-261 677,-193 817,-193 817,-261\"/>\n<text text-anchor=\"middle\" x=\"747\" y=\"-245.8\" font-family=\"Times,serif\" font-size=\"14.00\" fill=\"#000000\">X[5] &lt;= 29.95</text>\n<text text-anchor=\"middle\" x=\"747\" y=\"-230.8\" font-family=\"Times,serif\" font-size=\"14.00\" fill=\"#000000\">entropy = 0.958</text>\n<text text-anchor=\"middle\" x=\"747\" y=\"-215.8\" font-family=\"Times,serif\" font-size=\"14.00\" fill=\"#000000\">samples = 184</text>\n<text text-anchor=\"middle\" x=\"747\" y=\"-200.8\" font-family=\"Times,serif\" font-size=\"14.00\" fill=\"#000000\">value = [70, 114]</text>\n</g>\n<!-- 0&#45;&gt;8 -->\n<g id=\"edge8\" class=\"edge\">\n<title>0&#45;&gt;8</title>\n<path fill=\"none\" stroke=\"#000000\" d=\"M644.0979,-296.9465C658.2313,-287.3395 673.7352,-276.8009 688.3233,-266.8848\"/>\n<polygon fill=\"#000000\" stroke=\"#000000\" points=\"690.4868,-269.6463 696.7895,-261.13 686.5517,-263.8571 690.4868,-269.6463\"/>\n<text text-anchor=\"middle\" x=\"692.1073\" y=\"-281.9876\" font-family=\"Times,serif\" font-size=\"14.00\" fill=\"#000000\">False</text>\n</g>\n<!-- 2 -->\n<g id=\"node3\" class=\"node\">\n<title>2</title>\n<polygon fill=\"#e78c4a\" stroke=\"#000000\" points=\"288,-157 148,-157 148,-89 288,-89 288,-157\"/>\n<text text-anchor=\"middle\" x=\"218\" y=\"-141.8\" font-family=\"Times,serif\" font-size=\"14.00\" fill=\"#000000\">X[5] &lt;= 30.95</text>\n<text text-anchor=\"middle\" x=\"218\" y=\"-126.8\" font-family=\"Times,serif\" font-size=\"14.00\" fill=\"#000000\">entropy = 0.404</text>\n<text text-anchor=\"middle\" x=\"218\" y=\"-111.8\" font-family=\"Times,serif\" font-size=\"14.00\" fill=\"#000000\">samples = 174</text>\n<text text-anchor=\"middle\" x=\"218\" y=\"-96.8\" font-family=\"Times,serif\" font-size=\"14.00\" fill=\"#000000\">value = [160, 14]</text>\n</g>\n<!-- 1&#45;&gt;2 -->\n<g id=\"edge2\" class=\"edge\">\n<title>1&#45;&gt;2</title>\n<path fill=\"none\" stroke=\"#000000\" d=\"M373.731,-194.6638C349.6026,-183.5605 322.4259,-171.0544 297.6097,-159.6346\"/>\n<polygon fill=\"#000000\" stroke=\"#000000\" points=\"298.773,-156.3171 288.2255,-155.3162 295.8467,-162.6761 298.773,-156.3171\"/>\n</g>\n<!-- 5 -->\n<g id=\"node6\" class=\"node\">\n<title>5</title>\n<polygon fill=\"#f3c6a5\" stroke=\"#000000\" points=\"511,-157 377,-157 377,-89 511,-89 511,-157\"/>\n<text text-anchor=\"middle\" x=\"444\" y=\"-141.8\" font-family=\"Times,serif\" font-size=\"14.00\" fill=\"#000000\">X[5] &lt;= 26.35</text>\n<text text-anchor=\"middle\" x=\"444\" y=\"-126.8\" font-family=\"Times,serif\" font-size=\"14.00\" fill=\"#000000\">entropy = 0.937</text>\n<text text-anchor=\"middle\" x=\"444\" y=\"-111.8\" font-family=\"Times,serif\" font-size=\"14.00\" fill=\"#000000\">samples = 133</text>\n<text text-anchor=\"middle\" x=\"444\" y=\"-96.8\" font-family=\"Times,serif\" font-size=\"14.00\" fill=\"#000000\">value = [86, 47]</text>\n</g>\n<!-- 1&#45;&gt;5 -->\n<g id=\"edge5\" class=\"edge\">\n<title>1&#45;&gt;5</title>\n<path fill=\"none\" stroke=\"#000000\" d=\"M444,-192.9465C444,-184.776 444,-175.9318 444,-167.3697\"/>\n<polygon fill=\"#000000\" stroke=\"#000000\" points=\"447.5001,-167.13 444,-157.13 440.5001,-167.13 447.5001,-167.13\"/>\n</g>\n<!-- 3 -->\n<g id=\"node4\" class=\"node\">\n<title>3</title>\n<polygon fill=\"#e6843d\" stroke=\"#000000\" points=\"134,-53 0,-53 0,0 134,0 134,-53\"/>\n<text text-anchor=\"middle\" x=\"67\" y=\"-37.8\" font-family=\"Times,serif\" font-size=\"14.00\" fill=\"#000000\">entropy = 0.149</text>\n<text text-anchor=\"middle\" x=\"67\" y=\"-22.8\" font-family=\"Times,serif\" font-size=\"14.00\" fill=\"#000000\">samples = 94</text>\n<text text-anchor=\"middle\" x=\"67\" y=\"-7.8\" font-family=\"Times,serif\" font-size=\"14.00\" fill=\"#000000\">value = [92, 2]</text>\n</g>\n<!-- 2&#45;&gt;3 -->\n<g id=\"edge3\" class=\"edge\">\n<title>2&#45;&gt;3</title>\n<path fill=\"none\" stroke=\"#000000\" d=\"M164.763,-88.9777C149.4315,-79.1798 132.7549,-68.5222 117.5887,-58.8298\"/>\n<polygon fill=\"#000000\" stroke=\"#000000\" points=\"119.1662,-55.6843 108.8551,-53.2485 115.3966,-61.5827 119.1662,-55.6843\"/>\n</g>\n<!-- 4 -->\n<g id=\"node5\" class=\"node\">\n<title>4</title>\n<polygon fill=\"#ea975c\" stroke=\"#000000\" points=\"283.5,-53 152.5,-53 152.5,0 283.5,0 283.5,-53\"/>\n<text text-anchor=\"middle\" x=\"218\" y=\"-37.8\" font-family=\"Times,serif\" font-size=\"14.00\" fill=\"#000000\">entropy = 0.61</text>\n<text text-anchor=\"middle\" x=\"218\" y=\"-22.8\" font-family=\"Times,serif\" font-size=\"14.00\" fill=\"#000000\">samples = 80</text>\n<text text-anchor=\"middle\" x=\"218\" y=\"-7.8\" font-family=\"Times,serif\" font-size=\"14.00\" fill=\"#000000\">value = [68, 12]</text>\n</g>\n<!-- 2&#45;&gt;4 -->\n<g id=\"edge4\" class=\"edge\">\n<title>2&#45;&gt;4</title>\n<path fill=\"none\" stroke=\"#000000\" d=\"M218,-88.9777C218,-80.7364 218,-71.887 218,-63.5153\"/>\n<polygon fill=\"#000000\" stroke=\"#000000\" points=\"221.5001,-63.2484 218,-53.2485 214.5001,-63.2485 221.5001,-63.2484\"/>\n</g>\n<!-- 6 -->\n<g id=\"node7\" class=\"node\">\n<title>6</title>\n<polygon fill=\"#e68641\" stroke=\"#000000\" points=\"436,-53 302,-53 302,0 436,0 436,-53\"/>\n<text text-anchor=\"middle\" x=\"369\" y=\"-37.8\" font-family=\"Times,serif\" font-size=\"14.00\" fill=\"#000000\">entropy = 0.229</text>\n<text text-anchor=\"middle\" x=\"369\" y=\"-22.8\" font-family=\"Times,serif\" font-size=\"14.00\" fill=\"#000000\">samples = 27</text>\n<text text-anchor=\"middle\" x=\"369\" y=\"-7.8\" font-family=\"Times,serif\" font-size=\"14.00\" fill=\"#000000\">value = [26, 1]</text>\n</g>\n<!-- 5&#45;&gt;6 -->\n<g id=\"edge6\" class=\"edge\">\n<title>5&#45;&gt;6</title>\n<path fill=\"none\" stroke=\"#000000\" d=\"M417.5578,-88.9777C410.5833,-80.0039 403.0484,-70.3089 396.0427,-61.295\"/>\n<polygon fill=\"#000000\" stroke=\"#000000\" points=\"398.6891,-58.9964 389.789,-53.2485 393.1621,-63.292 398.6891,-58.9964\"/>\n</g>\n<!-- 7 -->\n<g id=\"node8\" class=\"node\">\n<title>7</title>\n<polygon fill=\"#f9e2d1\" stroke=\"#000000\" points=\"588,-53 454,-53 454,0 588,0 588,-53\"/>\n<text text-anchor=\"middle\" x=\"521\" y=\"-37.8\" font-family=\"Times,serif\" font-size=\"14.00\" fill=\"#000000\">entropy = 0.987</text>\n<text text-anchor=\"middle\" x=\"521\" y=\"-22.8\" font-family=\"Times,serif\" font-size=\"14.00\" fill=\"#000000\">samples = 106</text>\n<text text-anchor=\"middle\" x=\"521\" y=\"-7.8\" font-family=\"Times,serif\" font-size=\"14.00\" fill=\"#000000\">value = [60, 46]</text>\n</g>\n<!-- 5&#45;&gt;7 -->\n<g id=\"edge7\" class=\"edge\">\n<title>5&#45;&gt;7</title>\n<path fill=\"none\" stroke=\"#000000\" d=\"M471.1473,-88.9777C478.3078,-80.0039 486.0436,-70.3089 493.2361,-61.295\"/>\n<polygon fill=\"#000000\" stroke=\"#000000\" points=\"496.1554,-63.2481 499.6567,-53.2485 490.6837,-58.8821 496.1554,-63.2481\"/>\n</g>\n<!-- 9 -->\n<g id=\"node10\" class=\"node\">\n<title>9</title>\n<polygon fill=\"#edaa79\" stroke=\"#000000\" points=\"814,-157 680,-157 680,-89 814,-89 814,-157\"/>\n<text text-anchor=\"middle\" x=\"747\" y=\"-141.8\" font-family=\"Times,serif\" font-size=\"14.00\" fill=\"#000000\">X[1] &lt;= 145.5</text>\n<text text-anchor=\"middle\" x=\"747\" y=\"-126.8\" font-family=\"Times,serif\" font-size=\"14.00\" fill=\"#000000\">entropy = 0.803</text>\n<text text-anchor=\"middle\" x=\"747\" y=\"-111.8\" font-family=\"Times,serif\" font-size=\"14.00\" fill=\"#000000\">samples = 49</text>\n<text text-anchor=\"middle\" x=\"747\" y=\"-96.8\" font-family=\"Times,serif\" font-size=\"14.00\" fill=\"#000000\">value = [37, 12]</text>\n</g>\n<!-- 8&#45;&gt;9 -->\n<g id=\"edge9\" class=\"edge\">\n<title>8&#45;&gt;9</title>\n<path fill=\"none\" stroke=\"#000000\" d=\"M747,-192.9465C747,-184.776 747,-175.9318 747,-167.3697\"/>\n<polygon fill=\"#000000\" stroke=\"#000000\" points=\"750.5001,-167.13 747,-157.13 743.5001,-167.13 750.5001,-167.13\"/>\n</g>\n<!-- 12 -->\n<g id=\"node13\" class=\"node\">\n<title>12</title>\n<polygon fill=\"#79bded\" stroke=\"#000000\" points=\"1047,-157 907,-157 907,-89 1047,-89 1047,-157\"/>\n<text text-anchor=\"middle\" x=\"977\" y=\"-141.8\" font-family=\"Times,serif\" font-size=\"14.00\" fill=\"#000000\">X[6] &lt;= 0.3</text>\n<text text-anchor=\"middle\" x=\"977\" y=\"-126.8\" font-family=\"Times,serif\" font-size=\"14.00\" fill=\"#000000\">entropy = 0.802</text>\n<text text-anchor=\"middle\" x=\"977\" y=\"-111.8\" font-family=\"Times,serif\" font-size=\"14.00\" fill=\"#000000\">samples = 135</text>\n<text text-anchor=\"middle\" x=\"977\" y=\"-96.8\" font-family=\"Times,serif\" font-size=\"14.00\" fill=\"#000000\">value = [33, 102]</text>\n</g>\n<!-- 8&#45;&gt;12 -->\n<g id=\"edge12\" class=\"edge\">\n<title>8&#45;&gt;12</title>\n<path fill=\"none\" stroke=\"#000000\" d=\"M817.2573,-195.2315C842.6647,-183.7429 871.5241,-170.6934 897.6572,-158.8768\"/>\n<polygon fill=\"#000000\" stroke=\"#000000\" points=\"899.1072,-162.0623 906.7769,-154.753 896.2231,-155.6841 899.1072,-162.0623\"/>\n</g>\n<!-- 10 -->\n<g id=\"node11\" class=\"node\">\n<title>10</title>\n<polygon fill=\"#e78c49\" stroke=\"#000000\" points=\"740,-53 606,-53 606,0 740,0 740,-53\"/>\n<text text-anchor=\"middle\" x=\"673\" y=\"-37.8\" font-family=\"Times,serif\" font-size=\"14.00\" fill=\"#000000\">entropy = 0.391</text>\n<text text-anchor=\"middle\" x=\"673\" y=\"-22.8\" font-family=\"Times,serif\" font-size=\"14.00\" fill=\"#000000\">samples = 26</text>\n<text text-anchor=\"middle\" x=\"673\" y=\"-7.8\" font-family=\"Times,serif\" font-size=\"14.00\" fill=\"#000000\">value = [24, 2]</text>\n</g>\n<!-- 9&#45;&gt;10 -->\n<g id=\"edge10\" class=\"edge\">\n<title>9&#45;&gt;10</title>\n<path fill=\"none\" stroke=\"#000000\" d=\"M720.9104,-88.9777C714.0289,-80.0039 706.5944,-70.3089 699.6822,-61.295\"/>\n<polygon fill=\"#000000\" stroke=\"#000000\" points=\"702.3744,-59.0541 693.5118,-53.2485 696.8196,-63.3137 702.3744,-59.0541\"/>\n</g>\n<!-- 11 -->\n<g id=\"node12\" class=\"node\">\n<title>11</title>\n<polygon fill=\"#f9e2d1\" stroke=\"#000000\" points=\"892,-53 758,-53 758,0 892,0 892,-53\"/>\n<text text-anchor=\"middle\" x=\"825\" y=\"-37.8\" font-family=\"Times,serif\" font-size=\"14.00\" fill=\"#000000\">entropy = 0.988</text>\n<text text-anchor=\"middle\" x=\"825\" y=\"-22.8\" font-family=\"Times,serif\" font-size=\"14.00\" fill=\"#000000\">samples = 23</text>\n<text text-anchor=\"middle\" x=\"825\" y=\"-7.8\" font-family=\"Times,serif\" font-size=\"14.00\" fill=\"#000000\">value = [13, 10]</text>\n</g>\n<!-- 9&#45;&gt;11 -->\n<g id=\"edge11\" class=\"edge\">\n<title>9&#45;&gt;11</title>\n<path fill=\"none\" stroke=\"#000000\" d=\"M774.4999,-88.9777C781.7533,-80.0039 789.5897,-70.3089 796.8756,-61.295\"/>\n<polygon fill=\"#000000\" stroke=\"#000000\" points=\"799.8153,-63.2258 803.3795,-53.2485 794.3712,-58.8255 799.8153,-63.2258\"/>\n</g>\n<!-- 13 -->\n<g id=\"node14\" class=\"node\">\n<title>13</title>\n<polygon fill=\"#deeffb\" stroke=\"#000000\" points=\"1044,-53 910,-53 910,0 1044,0 1044,-53\"/>\n<text text-anchor=\"middle\" x=\"977\" y=\"-37.8\" font-family=\"Times,serif\" font-size=\"14.00\" fill=\"#000000\">entropy = 0.994</text>\n<text text-anchor=\"middle\" x=\"977\" y=\"-22.8\" font-family=\"Times,serif\" font-size=\"14.00\" fill=\"#000000\">samples = 44</text>\n<text text-anchor=\"middle\" x=\"977\" y=\"-7.8\" font-family=\"Times,serif\" font-size=\"14.00\" fill=\"#000000\">value = [20, 24]</text>\n</g>\n<!-- 12&#45;&gt;13 -->\n<g id=\"edge13\" class=\"edge\">\n<title>12&#45;&gt;13</title>\n<path fill=\"none\" stroke=\"#000000\" d=\"M977,-88.9777C977,-80.7364 977,-71.887 977,-63.5153\"/>\n<polygon fill=\"#000000\" stroke=\"#000000\" points=\"980.5001,-63.2484 977,-53.2485 973.5001,-63.2485 980.5001,-63.2484\"/>\n</g>\n<!-- 14 -->\n<g id=\"node15\" class=\"node\">\n<title>14</title>\n<polygon fill=\"#5aade9\" stroke=\"#000000\" points=\"1196,-53 1062,-53 1062,0 1196,0 1196,-53\"/>\n<text text-anchor=\"middle\" x=\"1129\" y=\"-37.8\" font-family=\"Times,serif\" font-size=\"14.00\" fill=\"#000000\">entropy = 0.592</text>\n<text text-anchor=\"middle\" x=\"1129\" y=\"-22.8\" font-family=\"Times,serif\" font-size=\"14.00\" fill=\"#000000\">samples = 91</text>\n<text text-anchor=\"middle\" x=\"1129\" y=\"-7.8\" font-family=\"Times,serif\" font-size=\"14.00\" fill=\"#000000\">value = [13, 78]</text>\n</g>\n<!-- 12&#45;&gt;14 -->\n<g id=\"edge14\" class=\"edge\">\n<title>12&#45;&gt;14</title>\n<path fill=\"none\" stroke=\"#000000\" d=\"M1030.5895,-88.9777C1046.0226,-79.1798 1062.8096,-68.5222 1078.0763,-58.8298\"/>\n<polygon fill=\"#000000\" stroke=\"#000000\" points=\"1080.3013,-61.5631 1086.8677,-53.2485 1076.5494,-55.6535 1080.3013,-61.5631\"/>\n</g>\n</g>\n</svg>\n"
     },
     "metadata": {}
    }
   ],
   "execution_count": null
  },
  {
   "cell_type": "markdown",
   "source": "#### Use the graph above to answer the questions below",
   "metadata": {
    "colab_type": "text",
    "id": "4iz4meWDVmo2",
    "cell_id": "00018-d531e6b3-0be6-4593-911a-1697ac904853",
    "deepnote_cell_type": "markdown"
   }
  },
  {
   "cell_type": "code",
   "source": "data.head(10)",
   "metadata": {
    "tags": [],
    "cell_id": "00019-f558cdc2-47d6-4291-88d8-aeee05a5e9b0",
    "deepnote_to_be_reexecuted": false,
    "source_hash": "4d5f977f",
    "execution_start": 1625687664435,
    "execution_millis": 92,
    "deepnote_cell_type": "code"
   },
   "outputs": [
    {
     "output_type": "execute_result",
     "execution_count": 59,
     "data": {
      "application/vnd.deepnote.dataframe.v2+json": {
       "row_count": 10,
       "column_count": 9,
       "columns": [
        {
         "name": "preg",
         "dtype": "int64",
         "stats": {
          "unique_count": 8,
          "nan_count": 0,
          "min": "0",
          "max": "10",
          "histogram": [
           {
            "bin_start": 0,
            "bin_end": 1,
            "count": 1
           },
           {
            "bin_start": 1,
            "bin_end": 2,
            "count": 2
           },
           {
            "bin_start": 2,
            "bin_end": 3,
            "count": 1
           },
           {
            "bin_start": 3,
            "bin_end": 4,
            "count": 1
           },
           {
            "bin_start": 4,
            "bin_end": 5,
            "count": 0
           },
           {
            "bin_start": 5,
            "bin_end": 6,
            "count": 1
           },
           {
            "bin_start": 6,
            "bin_end": 7,
            "count": 1
           },
           {
            "bin_start": 7,
            "bin_end": 8,
            "count": 0
           },
           {
            "bin_start": 8,
            "bin_end": 9,
            "count": 2
           },
           {
            "bin_start": 9,
            "bin_end": 10,
            "count": 1
           }
          ]
         }
        },
        {
         "name": "plas",
         "dtype": "int64",
         "stats": {
          "unique_count": 10,
          "nan_count": 0,
          "min": "78",
          "max": "197",
          "histogram": [
           {
            "bin_start": 78,
            "bin_end": 89.9,
            "count": 3
           },
           {
            "bin_start": 89.9,
            "bin_end": 101.8,
            "count": 0
           },
           {
            "bin_start": 101.8,
            "bin_end": 113.7,
            "count": 0
           },
           {
            "bin_start": 113.7,
            "bin_end": 125.6,
            "count": 3
           },
           {
            "bin_start": 125.6,
            "bin_end": 137.5,
            "count": 1
           },
           {
            "bin_start": 137.5,
            "bin_end": 149.4,
            "count": 1
           },
           {
            "bin_start": 149.4,
            "bin_end": 161.3,
            "count": 0
           },
           {
            "bin_start": 161.3,
            "bin_end": 173.2,
            "count": 0
           },
           {
            "bin_start": 173.2,
            "bin_end": 185.10000000000002,
            "count": 1
           },
           {
            "bin_start": 185.10000000000002,
            "bin_end": 197,
            "count": 1
           }
          ]
         }
        },
        {
         "name": "pres",
         "dtype": "int64",
         "stats": {
          "unique_count": 9,
          "nan_count": 0,
          "min": "0",
          "max": "96",
          "histogram": [
           {
            "bin_start": 0,
            "bin_end": 9.6,
            "count": 1
           },
           {
            "bin_start": 9.6,
            "bin_end": 19.2,
            "count": 0
           },
           {
            "bin_start": 19.2,
            "bin_end": 28.799999999999997,
            "count": 0
           },
           {
            "bin_start": 28.799999999999997,
            "bin_end": 38.4,
            "count": 0
           },
           {
            "bin_start": 38.4,
            "bin_end": 48,
            "count": 1
           },
           {
            "bin_start": 48,
            "bin_end": 57.599999999999994,
            "count": 1
           },
           {
            "bin_start": 57.599999999999994,
            "bin_end": 67.2,
            "count": 3
           },
           {
            "bin_start": 67.2,
            "bin_end": 76.8,
            "count": 3
           },
           {
            "bin_start": 76.8,
            "bin_end": 86.39999999999999,
            "count": 0
           },
           {
            "bin_start": 86.39999999999999,
            "bin_end": 96,
            "count": 1
           }
          ]
         }
        },
        {
         "name": "skin",
         "dtype": "int64",
         "stats": {
          "unique_count": 6,
          "nan_count": 0,
          "min": "0",
          "max": "45",
          "histogram": [
           {
            "bin_start": 0,
            "bin_end": 4.5,
            "count": 4
           },
           {
            "bin_start": 4.5,
            "bin_end": 9,
            "count": 0
           },
           {
            "bin_start": 9,
            "bin_end": 13.5,
            "count": 0
           },
           {
            "bin_start": 13.5,
            "bin_end": 18,
            "count": 0
           },
           {
            "bin_start": 18,
            "bin_end": 22.5,
            "count": 0
           },
           {
            "bin_start": 22.5,
            "bin_end": 27,
            "count": 1
           },
           {
            "bin_start": 27,
            "bin_end": 31.5,
            "count": 1
           },
           {
            "bin_start": 31.5,
            "bin_end": 36,
            "count": 3
           },
           {
            "bin_start": 36,
            "bin_end": 40.5,
            "count": 0
           },
           {
            "bin_start": 40.5,
            "bin_end": 45,
            "count": 1
           }
          ]
         }
        },
        {
         "name": "test",
         "dtype": "int64",
         "stats": {
          "unique_count": 5,
          "nan_count": 0,
          "min": "0",
          "max": "543",
          "histogram": [
           {
            "bin_start": 0,
            "bin_end": 54.3,
            "count": 6
           },
           {
            "bin_start": 54.3,
            "bin_end": 108.6,
            "count": 2
           },
           {
            "bin_start": 108.6,
            "bin_end": 162.89999999999998,
            "count": 0
           },
           {
            "bin_start": 162.89999999999998,
            "bin_end": 217.2,
            "count": 1
           },
           {
            "bin_start": 217.2,
            "bin_end": 271.5,
            "count": 0
           },
           {
            "bin_start": 271.5,
            "bin_end": 325.79999999999995,
            "count": 0
           },
           {
            "bin_start": 325.79999999999995,
            "bin_end": 380.09999999999997,
            "count": 0
           },
           {
            "bin_start": 380.09999999999997,
            "bin_end": 434.4,
            "count": 0
           },
           {
            "bin_start": 434.4,
            "bin_end": 488.7,
            "count": 0
           },
           {
            "bin_start": 488.7,
            "bin_end": 543,
            "count": 1
           }
          ]
         }
        },
        {
         "name": "mass",
         "dtype": "float64",
         "stats": {
          "unique_count": 10,
          "nan_count": 0,
          "min": "0.0",
          "max": "43.1",
          "histogram": [
           {
            "bin_start": 0,
            "bin_end": 4.3100000000000005,
            "count": 1
           },
           {
            "bin_start": 4.3100000000000005,
            "bin_end": 8.620000000000001,
            "count": 0
           },
           {
            "bin_start": 8.620000000000001,
            "bin_end": 12.930000000000001,
            "count": 0
           },
           {
            "bin_start": 12.930000000000001,
            "bin_end": 17.240000000000002,
            "count": 0
           },
           {
            "bin_start": 17.240000000000002,
            "bin_end": 21.550000000000004,
            "count": 0
           },
           {
            "bin_start": 21.550000000000004,
            "bin_end": 25.860000000000003,
            "count": 2
           },
           {
            "bin_start": 25.860000000000003,
            "bin_end": 30.17,
            "count": 2
           },
           {
            "bin_start": 30.17,
            "bin_end": 34.480000000000004,
            "count": 3
           },
           {
            "bin_start": 34.480000000000004,
            "bin_end": 38.790000000000006,
            "count": 1
           },
           {
            "bin_start": 38.790000000000006,
            "bin_end": 43.1,
            "count": 1
           }
          ]
         }
        },
        {
         "name": "pedi",
         "dtype": "float64",
         "stats": {
          "unique_count": 10,
          "nan_count": 0,
          "min": "0.134",
          "max": "2.288",
          "histogram": [
           {
            "bin_start": 0.134,
            "bin_end": 0.3494,
            "count": 6
           },
           {
            "bin_start": 0.3494,
            "bin_end": 0.5648,
            "count": 1
           },
           {
            "bin_start": 0.5648,
            "bin_end": 0.7801999999999999,
            "count": 2
           },
           {
            "bin_start": 0.7801999999999999,
            "bin_end": 0.9955999999999999,
            "count": 0
           },
           {
            "bin_start": 0.9955999999999999,
            "bin_end": 1.2109999999999999,
            "count": 0
           },
           {
            "bin_start": 1.2109999999999999,
            "bin_end": 1.4263999999999997,
            "count": 0
           },
           {
            "bin_start": 1.4263999999999997,
            "bin_end": 1.6418,
            "count": 0
           },
           {
            "bin_start": 1.6418,
            "bin_end": 1.8571999999999997,
            "count": 0
           },
           {
            "bin_start": 1.8571999999999997,
            "bin_end": 2.0726,
            "count": 0
           },
           {
            "bin_start": 2.0726,
            "bin_end": 2.288,
            "count": 1
           }
          ]
         }
        },
        {
         "name": "age",
         "dtype": "int64",
         "stats": {
          "unique_count": 10,
          "nan_count": 0,
          "min": "21",
          "max": "54",
          "histogram": [
           {
            "bin_start": 21,
            "bin_end": 24.3,
            "count": 1
           },
           {
            "bin_start": 24.3,
            "bin_end": 27.6,
            "count": 1
           },
           {
            "bin_start": 27.6,
            "bin_end": 30.9,
            "count": 2
           },
           {
            "bin_start": 30.9,
            "bin_end": 34.2,
            "count": 3
           },
           {
            "bin_start": 34.2,
            "bin_end": 37.5,
            "count": 0
           },
           {
            "bin_start": 37.5,
            "bin_end": 40.8,
            "count": 0
           },
           {
            "bin_start": 40.8,
            "bin_end": 44.099999999999994,
            "count": 0
           },
           {
            "bin_start": 44.099999999999994,
            "bin_end": 47.4,
            "count": 0
           },
           {
            "bin_start": 47.4,
            "bin_end": 50.7,
            "count": 1
           },
           {
            "bin_start": 50.7,
            "bin_end": 54,
            "count": 2
           }
          ]
         }
        },
        {
         "name": "class",
         "dtype": "int64",
         "stats": {
          "unique_count": 2,
          "nan_count": 0,
          "min": "0",
          "max": "1",
          "histogram": [
           {
            "bin_start": 0,
            "bin_end": 0.1,
            "count": 4
           },
           {
            "bin_start": 0.1,
            "bin_end": 0.2,
            "count": 0
           },
           {
            "bin_start": 0.2,
            "bin_end": 0.30000000000000004,
            "count": 0
           },
           {
            "bin_start": 0.30000000000000004,
            "bin_end": 0.4,
            "count": 0
           },
           {
            "bin_start": 0.4,
            "bin_end": 0.5,
            "count": 0
           },
           {
            "bin_start": 0.5,
            "bin_end": 0.6000000000000001,
            "count": 0
           },
           {
            "bin_start": 0.6000000000000001,
            "bin_end": 0.7000000000000001,
            "count": 0
           },
           {
            "bin_start": 0.7000000000000001,
            "bin_end": 0.8,
            "count": 0
           },
           {
            "bin_start": 0.8,
            "bin_end": 0.9,
            "count": 0
           },
           {
            "bin_start": 0.9,
            "bin_end": 1,
            "count": 6
           }
          ]
         }
        },
        {
         "name": "_deepnote_index_column",
         "dtype": "int64"
        }
       ],
       "rows_top": [
        {
         "preg": 6,
         "plas": 148,
         "pres": 72,
         "skin": 35,
         "test": 0,
         "mass": 33.6,
         "pedi": 0.627,
         "age": 50,
         "class": 1,
         "_deepnote_index_column": 0
        },
        {
         "preg": 1,
         "plas": 85,
         "pres": 66,
         "skin": 29,
         "test": 0,
         "mass": 26.6,
         "pedi": 0.351,
         "age": 31,
         "class": 0,
         "_deepnote_index_column": 1
        },
        {
         "preg": 8,
         "plas": 183,
         "pres": 64,
         "skin": 0,
         "test": 0,
         "mass": 23.3,
         "pedi": 0.672,
         "age": 32,
         "class": 1,
         "_deepnote_index_column": 2
        },
        {
         "preg": 1,
         "plas": 89,
         "pres": 66,
         "skin": 23,
         "test": 94,
         "mass": 28.1,
         "pedi": 0.167,
         "age": 21,
         "class": 0,
         "_deepnote_index_column": 3
        },
        {
         "preg": 0,
         "plas": 137,
         "pres": 40,
         "skin": 35,
         "test": 168,
         "mass": 43.1,
         "pedi": 2.288,
         "age": 33,
         "class": 1,
         "_deepnote_index_column": 4
        },
        {
         "preg": 5,
         "plas": 116,
         "pres": 74,
         "skin": 0,
         "test": 0,
         "mass": 25.6,
         "pedi": 0.201,
         "age": 30,
         "class": 0,
         "_deepnote_index_column": 5
        },
        {
         "preg": 3,
         "plas": 78,
         "pres": 50,
         "skin": 32,
         "test": 88,
         "mass": 31,
         "pedi": 0.248,
         "age": 26,
         "class": 1,
         "_deepnote_index_column": 6
        },
        {
         "preg": 10,
         "plas": 115,
         "pres": 0,
         "skin": 0,
         "test": 0,
         "mass": 35.3,
         "pedi": 0.134,
         "age": 29,
         "class": 0,
         "_deepnote_index_column": 7
        },
        {
         "preg": 2,
         "plas": 197,
         "pres": 70,
         "skin": 45,
         "test": 543,
         "mass": 30.5,
         "pedi": 0.158,
         "age": 53,
         "class": 1,
         "_deepnote_index_column": 8
        },
        {
         "preg": 8,
         "plas": 125,
         "pres": 96,
         "skin": 0,
         "test": 0,
         "mass": 0,
         "pedi": 0.232,
         "age": 54,
         "class": 1,
         "_deepnote_index_column": 9
        }
       ],
       "rows_bottom": null
      },
      "text/plain": "   preg  plas  pres  skin  test  mass   pedi  age  class\n0     6   148    72    35     0  33.6  0.627   50      1\n1     1    85    66    29     0  26.6  0.351   31      0\n2     8   183    64     0     0  23.3  0.672   32      1\n3     1    89    66    23    94  28.1  0.167   21      0\n4     0   137    40    35   168  43.1  2.288   33      1\n5     5   116    74     0     0  25.6  0.201   30      0\n6     3    78    50    32    88  31.0  0.248   26      1\n7    10   115     0     0     0  35.3  0.134   29      0\n8     2   197    70    45   543  30.5  0.158   53      1\n9     8   125    96     0     0   0.0  0.232   54      1",
      "text/html": "<div>\n<style scoped>\n    .dataframe tbody tr th:only-of-type {\n        vertical-align: middle;\n    }\n\n    .dataframe tbody tr th {\n        vertical-align: top;\n    }\n\n    .dataframe thead th {\n        text-align: right;\n    }\n</style>\n<table border=\"1\" class=\"dataframe\">\n  <thead>\n    <tr style=\"text-align: right;\">\n      <th></th>\n      <th>preg</th>\n      <th>plas</th>\n      <th>pres</th>\n      <th>skin</th>\n      <th>test</th>\n      <th>mass</th>\n      <th>pedi</th>\n      <th>age</th>\n      <th>class</th>\n    </tr>\n  </thead>\n  <tbody>\n    <tr>\n      <th>0</th>\n      <td>6</td>\n      <td>148</td>\n      <td>72</td>\n      <td>35</td>\n      <td>0</td>\n      <td>33.6</td>\n      <td>0.627</td>\n      <td>50</td>\n      <td>1</td>\n    </tr>\n    <tr>\n      <th>1</th>\n      <td>1</td>\n      <td>85</td>\n      <td>66</td>\n      <td>29</td>\n      <td>0</td>\n      <td>26.6</td>\n      <td>0.351</td>\n      <td>31</td>\n      <td>0</td>\n    </tr>\n    <tr>\n      <th>2</th>\n      <td>8</td>\n      <td>183</td>\n      <td>64</td>\n      <td>0</td>\n      <td>0</td>\n      <td>23.3</td>\n      <td>0.672</td>\n      <td>32</td>\n      <td>1</td>\n    </tr>\n    <tr>\n      <th>3</th>\n      <td>1</td>\n      <td>89</td>\n      <td>66</td>\n      <td>23</td>\n      <td>94</td>\n      <td>28.1</td>\n      <td>0.167</td>\n      <td>21</td>\n      <td>0</td>\n    </tr>\n    <tr>\n      <th>4</th>\n      <td>0</td>\n      <td>137</td>\n      <td>40</td>\n      <td>35</td>\n      <td>168</td>\n      <td>43.1</td>\n      <td>2.288</td>\n      <td>33</td>\n      <td>1</td>\n    </tr>\n    <tr>\n      <th>5</th>\n      <td>5</td>\n      <td>116</td>\n      <td>74</td>\n      <td>0</td>\n      <td>0</td>\n      <td>25.6</td>\n      <td>0.201</td>\n      <td>30</td>\n      <td>0</td>\n    </tr>\n    <tr>\n      <th>6</th>\n      <td>3</td>\n      <td>78</td>\n      <td>50</td>\n      <td>32</td>\n      <td>88</td>\n      <td>31.0</td>\n      <td>0.248</td>\n      <td>26</td>\n      <td>1</td>\n    </tr>\n    <tr>\n      <th>7</th>\n      <td>10</td>\n      <td>115</td>\n      <td>0</td>\n      <td>0</td>\n      <td>0</td>\n      <td>35.3</td>\n      <td>0.134</td>\n      <td>29</td>\n      <td>0</td>\n    </tr>\n    <tr>\n      <th>8</th>\n      <td>2</td>\n      <td>197</td>\n      <td>70</td>\n      <td>45</td>\n      <td>543</td>\n      <td>30.5</td>\n      <td>0.158</td>\n      <td>53</td>\n      <td>1</td>\n    </tr>\n    <tr>\n      <th>9</th>\n      <td>8</td>\n      <td>125</td>\n      <td>96</td>\n      <td>0</td>\n      <td>0</td>\n      <td>0.0</td>\n      <td>0.232</td>\n      <td>54</td>\n      <td>1</td>\n    </tr>\n  </tbody>\n</table>\n</div>"
     },
     "metadata": {}
    }
   ],
   "execution_count": null
  },
  {
   "cell_type": "markdown",
   "source": "Question 1: What do you think X[n] represents in the nodes from the graph?\n\nX[n] reprsents a column in the data set. The values in the column are compared to a number that is chosen to best separate the data at that node into the smaller nodes.",
   "metadata": {
    "colab_type": "text",
    "id": "u1yM9h10WUEv",
    "cell_id": "00019-51773616-e8a0-44ba-9e36-d70097fa5655",
    "deepnote_cell_type": "markdown"
   }
  },
  {
   "cell_type": "markdown",
   "source": "Question 2: What is the root feature? Does it make sense as the root feature?\n\nThe root feature is 'plas', which has the biggest variety across the data set, so it makes sense to use it first.",
   "metadata": {
    "colab_type": "text",
    "id": "rA7B0oTaWUIe",
    "cell_id": "00020-2deceefe-565a-4b18-8401-7c83ec9bda5e",
    "deepnote_cell_type": "markdown"
   }
  },
  {
   "cell_type": "markdown",
   "source": "Question 3: If you were to change the parameters to have a max_depth of 500 and min_samples_leaf of 1, what do you think the effect would be on the test accuracy? Training accuracy?\n\nIt would have excellent training accuracy but bad test accuracy because the model would be overfit to the training data.",
   "metadata": {
    "colab_type": "text",
    "id": "1t559pS3ZHES",
    "cell_id": "00021-e29e7b88-9eaf-4236-8c1d-c18d93258c0b",
    "deepnote_cell_type": "markdown"
   }
  },
  {
   "cell_type": "markdown",
   "source": "**Test your guesses, create a model with max_depth=500 and min_samples_leaf=1, and predict values for the training and validation data**",
   "metadata": {
    "colab_type": "text",
    "id": "7dnlqId2bIcR",
    "cell_id": "00022-ed72e79c-1fb3-44cb-b533-d47d428bf747",
    "deepnote_cell_type": "markdown"
   }
  },
  {
   "cell_type": "code",
   "metadata": {
    "colab": {
     "autoexec": {
      "startup": false,
      "wait_interval": 0
     },
     "base_uri": "https://localhost:8080/",
     "height": 17
    },
    "colab_type": "code",
    "executionInfo": {
     "elapsed": 235,
     "status": "ok",
     "timestamp": 1530627843330,
     "user": {
      "displayName": "john passarelli",
      "photoUrl": "https://lh3.googleusercontent.com/a/default-user=s128",
      "userId": "102241934905781120798"
     },
     "user_tz": 240
    },
    "id": "hnUQKX9vl9Gy",
    "outputId": "ebaa5e52-a33f-4749-a3f6-6a3fde24da1f",
    "cell_id": "00023-49fb46da-e9bc-4bf3-a37f-ba7898041e16",
    "deepnote_to_be_reexecuted": false,
    "source_hash": "fffbd53c",
    "execution_start": 1625687908537,
    "execution_millis": 31,
    "deepnote_cell_type": "code"
   },
   "source": "## YOUR CODE HERE\ndecision_tree_hd = DecisionTreeClassifier(criterion='entropy', random_state = None, max_depth = 500, min_samples_leaf = 1)\n\ndecision_tree_hd.fit(X_train, y_train)\n\ny_train_pred_hd=decision_tree_hd.predict(X_train)\nprint(\"Training Accuracy is \", accuracy_score(y_train, y_train_pred_hd)*100)\ny_val_pred_hd=decision_tree_hd.predict(X_val)\nprint(\"Validation Accuracy is \", accuracy_score(y_val,y_val_pred_hd)*100)",
   "outputs": [
    {
     "name": "stdout",
     "text": "Training Accuracy is  100.0\nValidation Accuracy is  64.22764227642277\n",
     "output_type": "stream"
    }
   ],
   "execution_count": null
  },
  {
   "cell_type": "markdown",
   "source": "# Random Forest",
   "metadata": {
    "colab_type": "text",
    "id": "40Psyt65pD8p",
    "cell_id": "00024-f6243122-11c3-4e0e-b411-2261dd2a6ce6",
    "deepnote_cell_type": "markdown"
   }
  },
  {
   "cell_type": "markdown",
   "source": "## Creating Model\n\nCreate a model with sklearn's RandomForestClassifier and predict values on your validation set.",
   "metadata": {
    "colab_type": "text",
    "id": "mjLu1MLIpGNF",
    "cell_id": "00025-9ac59e6e-64f7-43cb-9dc9-ee4523ef3599",
    "deepnote_cell_type": "markdown"
   }
  },
  {
   "cell_type": "code",
   "metadata": {
    "colab": {
     "autoexec": {
      "startup": false,
      "wait_interval": 0
     },
     "base_uri": "https://localhost:8080/",
     "height": 37
    },
    "colab_type": "code",
    "executionInfo": {
     "elapsed": 318,
     "status": "ok",
     "timestamp": 1530627847311,
     "user": {
      "displayName": "john passarelli",
      "photoUrl": "https://lh3.googleusercontent.com/a/default-user=s128",
      "userId": "102241934905781120798"
     },
     "user_tz": 240
    },
    "id": "TYwbpWxUfDIY",
    "outputId": "0008a18f-a9e3-4c04-b42e-adc8ce9aa966",
    "cell_id": "00026-de694ae1-f14e-428e-a672-14f3cfa91f97",
    "deepnote_to_be_reexecuted": false,
    "source_hash": "3aa783e9",
    "execution_start": 1625688066422,
    "execution_millis": 466,
    "deepnote_cell_type": "code"
   },
   "source": "## YOUR CODE HERE\nrandom_forest = RandomForestClassifier(n_estimators=100)\n\nrandom_forest.fit(X_train, y_train)",
   "outputs": [
    {
     "output_type": "execute_result",
     "execution_count": 74,
     "data": {
      "text/plain": "RandomForestClassifier()"
     },
     "metadata": {}
    }
   ],
   "execution_count": null
  },
  {
   "cell_type": "markdown",
   "source": "Print accuracy of training and validation data.",
   "metadata": {
    "colab_type": "text",
    "id": "6Ys_J3O4pd0u",
    "cell_id": "00027-37ee0acc-7ffe-4b8a-b287-d02e0827e18e",
    "deepnote_cell_type": "markdown"
   }
  },
  {
   "cell_type": "code",
   "metadata": {
    "colab": {
     "autoexec": {
      "startup": false,
      "wait_interval": 0
     },
     "base_uri": "https://localhost:8080/",
     "height": 17
    },
    "colab_type": "code",
    "executionInfo": {
     "elapsed": 337,
     "status": "ok",
     "timestamp": 1530627851278,
     "user": {
      "displayName": "john passarelli",
      "photoUrl": "https://lh3.googleusercontent.com/a/default-user=s128",
      "userId": "102241934905781120798"
     },
     "user_tz": 240
    },
    "id": "aQdfjEWdfDOH",
    "outputId": "751008b5-156c-4bea-d599-37f84bd1b60c",
    "cell_id": "00028-6dc8051a-5dab-40fd-8577-1a964ad85ec1",
    "deepnote_to_be_reexecuted": false,
    "source_hash": "41116fb8",
    "execution_start": 1625688067920,
    "execution_millis": 87,
    "deepnote_cell_type": "code"
   },
   "source": "## YOUR CODE HERE\ny_train_pred_f=random_forest.predict(X_train)\nprint(\"Training Accuracy is \", accuracy_score(y_train, y_train_pred_f)*100)\ny_val_pred_f=random_forest.predict(X_val)\nprint(\"Validation Accuracy is \", accuracy_score(y_val,y_val_pred_f)*100)",
   "outputs": [
    {
     "name": "stdout",
     "text": "Training Accuracy is  100.0\nValidation Accuracy is  77.23577235772358\n",
     "output_type": "stream"
    }
   ],
   "execution_count": null
  },
  {
   "cell_type": "markdown",
   "source": "How did the accuracy compare to the decision tree's accuracy?\n\nThere was a smaller gap between the training and validation accuracies. The accuracy overall was better as well.",
   "metadata": {
    "cell_id": "00029-e39ef078-6e30-45dd-926b-bbb507b140eb",
    "deepnote_cell_type": "markdown"
   }
  },
  {
   "cell_type": "markdown",
   "source": "Print the 3 most important features (hint: sklearn has an attribute to help you find these)",
   "metadata": {
    "colab_type": "text",
    "id": "jGlSHxuUqAnX",
    "cell_id": "00030-5e94d202-3299-4773-8fe0-f4448bcb9862",
    "deepnote_cell_type": "markdown"
   }
  },
  {
   "cell_type": "code",
   "metadata": {
    "colab": {
     "autoexec": {
      "startup": false,
      "wait_interval": 0
     },
     "base_uri": "https://localhost:8080/",
     "height": 17
    },
    "colab_type": "code",
    "executionInfo": {
     "elapsed": 448,
     "status": "ok",
     "timestamp": 1530627855691,
     "user": {
      "displayName": "john passarelli",
      "photoUrl": "https://lh3.googleusercontent.com/a/default-user=s128",
      "userId": "102241934905781120798"
     },
     "user_tz": 240
    },
    "id": "5rVekWn0qw3r",
    "outputId": "d5e516d3-4f91-4394-b2e5-f26427b404ef",
    "cell_id": "00031-8c53bed0-f3ad-4d2c-9d15-a2d331c52695",
    "deepnote_to_be_reexecuted": false,
    "source_hash": "b94523b0",
    "execution_start": 1625689359189,
    "execution_millis": 59,
    "deepnote_cell_type": "code"
   },
   "source": "## YOUR CODE HERE\nvalues = []\n# print(random_forest.feature_importances_)\nfor i, importance in enumerate(random_forest.feature_importances_):\n    values.append([importance,i])\nvalues = sorted(values, reverse=True)\n# print(values) \nfor i in range(3):\n    print(data.columns[values[i][1]])",
   "outputs": [
    {
     "name": "stdout",
     "text": "plas\nmass\nage\n",
     "output_type": "stream"
    }
   ],
   "execution_count": null
  },
  {
   "cell_type": "markdown",
   "source": "Find the accuracy for random forests with 1 to 100 trees, counting by 5. Print and then plot these accuracies.",
   "metadata": {
    "colab_type": "text",
    "id": "lynu8pLDtd0S",
    "cell_id": "00032-b66c2556-892c-4fe8-8399-f5699345b768",
    "deepnote_cell_type": "markdown"
   }
  },
  {
   "cell_type": "code",
   "source": "count",
   "metadata": {
    "tags": [],
    "cell_id": "00034-5858ba80-49ac-453d-ac88-23f746299117",
    "deepnote_to_be_reexecuted": false,
    "source_hash": "3b7f7d94",
    "execution_start": 1625689560691,
    "execution_millis": 38,
    "deepnote_cell_type": "code"
   },
   "outputs": [
    {
     "output_type": "execute_result",
     "execution_count": 108,
     "data": {
      "text/plain": "array([ 1,  6, 11, 16, 21, 26, 31, 36, 41, 46, 51, 56, 61, 66, 71, 76, 81,\n       86, 91, 96])"
     },
     "metadata": {}
    }
   ],
   "execution_count": null
  },
  {
   "cell_type": "code",
   "metadata": {
    "colab": {
     "autoexec": {
      "startup": false,
      "wait_interval": 0
     },
     "base_uri": "https://localhost:8080/",
     "height": 17
    },
    "colab_type": "code",
    "executionInfo": {
     "elapsed": 371,
     "status": "ok",
     "timestamp": 1530627860158,
     "user": {
      "displayName": "john passarelli",
      "photoUrl": "https://lh3.googleusercontent.com/a/default-user=s128",
      "userId": "102241934905781120798"
     },
     "user_tz": 240
    },
    "id": "e2hG7npcuM7f",
    "outputId": "fb9e32ed-fb17-462e-a2f2-8db7964bb3d7",
    "cell_id": "00033-cc17e767-e961-47c5-b451-f98211db658d",
    "deepnote_to_be_reexecuted": false,
    "source_hash": "464f2625",
    "execution_start": 1625690622546,
    "execution_millis": 5763,
    "deepnote_cell_type": "code"
   },
   "source": "## YOUR CODE HERE\ncount = np.arange(1,100, 5)\ntrain_accuracies = []\nvalidation_accuracies = []\nfor i in count:\n    random_forest = RandomForestClassifier(n_estimators=i)\n    random_forest.fit(X_train, y_train)\n    y_train_pred_f = random_forest.predict(X_train)\n    print(\"Training Accuracy is \", accuracy_score(y_train, y_train_pred_f)*100)\n    train_accuracies.append(accuracy_score(y_train, y_train_pred_f)*100)\n    y_val_pred_f=random_forest.predict(X_val)\n    print(\"Validation Accuracy is \", accuracy_score(y_val,y_val_pred_f)*100)\n    validation_accuracies.append(accuracy_score(y_val,y_val_pred_f)*100)\n#print(train_accuracies)\n#print(validation_accuracies)\n\nplt.plot(count, train_accuracies, 'r-', count, validation_accuracies, 'b-')\nplt.show()",
   "outputs": [
    {
     "name": "stdout",
     "text": "Training Accuracy is  87.57637474541752\nValidation Accuracy is  60.16260162601627\nTraining Accuracy is  97.14867617107943\nValidation Accuracy is  72.35772357723577\nTraining Accuracy is  98.98167006109979\nValidation Accuracy is  78.04878048780488\nTraining Accuracy is  99.18533604887983\nValidation Accuracy is  73.98373983739837\nTraining Accuracy is  99.38900203665987\nValidation Accuracy is  81.30081300813008\nTraining Accuracy is  100.0\nValidation Accuracy is  78.04878048780488\nTraining Accuracy is  100.0\nValidation Accuracy is  73.98373983739837\nTraining Accuracy is  99.79633401221996\nValidation Accuracy is  75.60975609756098\nTraining Accuracy is  100.0\nValidation Accuracy is  78.86178861788618\nTraining Accuracy is  99.79633401221996\nValidation Accuracy is  76.42276422764228\nTraining Accuracy is  100.0\nValidation Accuracy is  79.67479674796748\nTraining Accuracy is  100.0\nValidation Accuracy is  73.17073170731707\nTraining Accuracy is  100.0\nValidation Accuracy is  78.86178861788618\nTraining Accuracy is  100.0\nValidation Accuracy is  76.42276422764228\nTraining Accuracy is  100.0\nValidation Accuracy is  71.54471544715447\nTraining Accuracy is  100.0\nValidation Accuracy is  74.79674796747967\nTraining Accuracy is  100.0\nValidation Accuracy is  75.60975609756098\nTraining Accuracy is  100.0\nValidation Accuracy is  76.42276422764228\nTraining Accuracy is  100.0\nValidation Accuracy is  75.60975609756098\nTraining Accuracy is  100.0\nValidation Accuracy is  75.60975609756098\n",
     "output_type": "stream"
    },
    {
     "data": {
      "text/plain": "<Figure size 432x288 with 1 Axes>",
      "image/png": "[encoded data removed]"
     },
     "metadata": {
      "needs_background": "light",
      "image/png": {
       "width": 382,
       "height": 248
      }
     },
     "output_type": "display_data"
    }
   ],
   "execution_count": null
  },
  {
   "cell_type": "markdown",
   "source": "Plot the roc_curve using predict_proba a function for our random forest model, and metrics.roc_curve\n\nIt might help to google these functions and look at sklearn's documentation.",
   "metadata": {
    "cell_id": "00034-e51aa614-cd4a-40a3-9dcd-64e7966fbf1c",
    "deepnote_cell_type": "markdown"
   }
  },
  {
   "cell_type": "code",
   "metadata": {
    "cell_id": "00035-104f4dee-fe87-4866-ad6c-d7b4b3d97e90",
    "deepnote_to_be_reexecuted": false,
    "source_hash": "aca7d4ce",
    "execution_start": 1625690423493,
    "execution_millis": 397,
    "deepnote_cell_type": "code"
   },
   "source": "## YOUR CODE HERE\n\ny_val_prob = random_forest.predict_proba(X_val)\n\nfpr, tpr, thresholds = metrics.roc_curve(y_val, y_val_prob[:,1])\n\nroc_auc = metrics.auc(fpr, tpr)\n\n#print(roc_auc)\nplt.figure(figsize=(6,6))\nlw = 2\nplt.plot(fpr, tpr, color='darkorange',\n         lw=lw, label='ROC curve (area = %0.2f)' % roc_auc)\nplt.plot([0, 1], [0, 1], color='navy', lw=lw, linestyle='--')\nplt.xlim([0.0, 1.0])\nplt.ylim([0.0, 1.0])\nplt.xlabel('False Positive Rate')\nplt.ylabel('True Positive Rate')\nplt.legend(loc=\"lower right\")\nplt.show()",
   "outputs": [
    {
     "data": {
      "text/plain": "<Figure size 432x432 with 1 Axes>",
      "image/png": "[encoded data removed]"
     },
     "metadata": {
      "needs_background": "light",
      "image/png": {
       "width": 394,
       "height": 375
      }
     },
     "output_type": "display_data"
    }
   ],
   "execution_count": null
  },
  {
   "cell_type": "code",
   "source": "",
   "metadata": {
    "tags": [],
    "cell_id": "00038-76e3660f-f18e-41b2-9b05-807b0159bb95",
    "deepnote_to_be_reexecuted": false,
    "source_hash": "b623e53d",
    "execution_start": 1625690291776,
    "execution_millis": 2,
    "deepnote_cell_type": "code"
   },
   "outputs": [],
   "execution_count": null
  },
  {
   "cell_type": "code",
   "source": "",
   "metadata": {
    "tags": [],
    "cell_id": "00039-e18faf6f-b2a5-44a7-9edc-29eef2035995",
    "deepnote_cell_type": "code"
   },
   "outputs": [],
   "execution_count": null
  },
  {
   "cell_type": "markdown",
   "source": "<a style='text-decoration:none;line-height:16px;display:flex;color:#5B5B62;padding:10px;justify-content:end;' href='https://deepnote.com?utm_source=created-in-deepnote-cell&projectId=d2fcc772-6148-4c0e-8b14-5e61b4e33ffd' target=\"_blank\">\n<img alt='Created in deepnote.com' style='display:inline;max-height:16px;margin:0px;margin-right:7.5px;' src='data:image/svg+xml;base64,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' > </img>\nCreated in <span style='font-weight:600;margin-left:4px;'>Deepnote</span></a>",
   "metadata": {
    "tags": [],
    "created_in_deepnote_cell": true,
    "deepnote_cell_type": "markdown"
   }
  }
 ],
 "nbformat": 4,
 "nbformat_minor": 1,
 "metadata": {
  "colab": {
   "collapsed_sections": [],
   "default_view": {},
   "name": "DecisionTreeWorksheetStudent",
   "provenance": [
    {
     "file_id": "165CSmT99w4_Sv1UENIyvIkH7ZEw2Xeh8",
     "timestamp": 1527780043079
    }
   ],
   "version": "0.3.2",
   "views": {}
  },
  "kernelspec": {
   "display_name": "Python 3",
   "language": "python",
   "name": "python3"
  },
  "language_info": {
   "codemirror_mode": {
    "name": "ipython",
    "version": 3
   },
   "file_extension": ".py",
   "mimetype": "text/x-python",
   "name": "python",
   "nbconvert_exporter": "python",
   "pygments_lexer": "ipython3",
   "version": "3.7.3"
  },
  "deepnote_notebook_id": "5160454b-8d9a-4d65-91ef-99b6d4c100e8",
  "deepnote": {},
  "deepnote_execution_queue": []
 }
}